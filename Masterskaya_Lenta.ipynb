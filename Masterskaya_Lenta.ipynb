{
 "cells": [
  {
   "cell_type": "markdown",
   "id": "6ef35331",
   "metadata": {},
   "source": [
    "# Мастерская Лента"
   ]
  },
  {
   "cell_type": "markdown",
   "id": "a77aef75",
   "metadata": {},
   "source": [
    "## Описание задачи"
   ]
  },
  {
   "cell_type": "markdown",
   "id": "e22ac8c0",
   "metadata": {},
   "source": [
    "Построить модель прогноза спроса на 14 дней для товаров собственного производства на основе мастер данных и данных продаж с учетом разных признаков. Гранулярность ТК-SKU-День.\n",
    "\n",
    "Прогноз позволит повысить доступность и продажи в ТК, без повышения списаний и повышение маржинальности. При изготовлении товаров СП сотрудники будут ориентироваться не на экспертный подход, а на ML прогноз спроса, в соответствии с которым будут изготавливать продукцию и планировать заказы сырья."
   ]
  },
  {
   "cell_type": "markdown",
   "id": "7c6a018a",
   "metadata": {},
   "source": [
    "## Знакомство с данными"
   ]
  },
  {
   "cell_type": "markdown",
   "id": "2cf946b5",
   "metadata": {},
   "source": [
    "Бизнес-заказчиком передано 3 датасета: `pr_df.csv`, `sales_df_train.csv`, `sales_submission.csv`:"
   ]
  },
  {
   "cell_type": "markdown",
   "id": "6b73591d",
   "metadata": {},
   "source": [
    "1. Датасет `sales_df_train.csv` содержит данные по продажам за скользящий год для обучения.\n",
    "\n",
    "    Столбцы:\n",
    "\n",
    "    `st_id` – захэшированное id магазина;\n",
    "\n",
    "    `pr_sku_id` – захэшированное id товара;\n",
    "\n",
    "    `date` – дата;\n",
    "\n",
    "    `pr_sales_type_id` – флаг наличия промо;\n",
    "\n",
    "    `pr_sales_in_units` – число проданных товаров всего (промо и без промо);\n",
    "\n",
    "    `pr_promo_sales_in_units` – число проданных товаров с признаком промо; \n",
    "\n",
    "    `pr_sales_in_rub` – продажи всего (промо и без промо) в РУБ; \n",
    "\n",
    "    `pr_promo_sales_in_rub` – продажи с признаком промо в РУБ;"
   ]
  },
  {
   "cell_type": "markdown",
   "id": "1be80bf9",
   "metadata": {},
   "source": [
    "2. Датасет `pr_df.csv` содержит данные по товарной иерархии. Иерархия представлена последовательностью от большего к меньшему `pr_group_id` - `pr_cat_id` - `pr_subcat_id` - `pr_sku_id`.\n",
    "\n",
    "    Столбцы:\n",
    "\n",
    "    `pr_group_id` – захэшированная группа товара;\n",
    "\n",
    "    `pr_cat_id` – захэшированная категория товара;\n",
    "\n",
    "    `pr_subcat_id` – захэшированная подкатегория товара;\n",
    "\n",
    "    `pr_sku_id` – захэшированное id товара;\n",
    "\n",
    "    `pr_uom_id` (маркер, обозначающий продаётся товар на вес или в ШТ)."
   ]
  },
  {
   "cell_type": "markdown",
   "id": "e1ec1502",
   "metadata": {},
   "source": [
    "3. Датасет `sf_df.csv` содержит данные по магазинам.\n",
    "\n",
    "    Столбцы:\n",
    "\n",
    "    `st_id` – захэшированное id магазина;\n",
    "\n",
    "    `st_city_id` – захэшированное id города;\n",
    "\n",
    "    `st_division_code id` – захэшированное id дивизиона; \n",
    "    \n",
    "    `st_type_format_id` – id формата магазина;\n",
    "\n",
    "    `st_type_loc_id` – id тип локации/окружения магазина; \n",
    "    \n",
    "    `st_type_size_id` – id типа размера магазина;\n",
    "\n",
    "    `st_is_active` – флаг активного магазина на данный момент."
   ]
  },
  {
   "cell_type": "markdown",
   "id": "8ed66af0",
   "metadata": {},
   "source": [
    "Импортируем необходимые библиотеки:"
   ]
  },
  {
   "cell_type": "code",
   "execution_count": 15,
   "id": "c65a35d1",
   "metadata": {},
   "outputs": [],
   "source": [
    "import numpy as np\n",
    "import pandas as pd\n",
    "import matplotlib.pyplot as plt\n",
    "import seaborn as sns\n",
    "from scipy.stats import norm\n",
    "from sklearn.preprocessing import StandardScaler\n",
    "from scipy import stats\n",
    "import warnings\n",
    "warnings.filterwarnings('ignore')\n",
    "%matplotlib inline"
   ]
  },
  {
   "cell_type": "markdown",
   "id": "b667c98d",
   "metadata": {},
   "source": [
    "Прочитаем представленные данные и посмотрим общую информацию о них:"
   ]
  },
  {
   "cell_type": "code",
   "execution_count": 83,
   "id": "8a39cc3f",
   "metadata": {},
   "outputs": [],
   "source": [
    "pr_df = pd.read_csv('pr_df.csv')"
   ]
  },
  {
   "cell_type": "code",
   "execution_count": 84,
   "id": "8560da54",
   "metadata": {},
   "outputs": [],
   "source": [
    "sales_df_train = pd.read_csv('sales_df_train.csv')"
   ]
  },
  {
   "cell_type": "code",
   "execution_count": 85,
   "id": "abfebd9c",
   "metadata": {},
   "outputs": [],
   "source": [
    "sf_df = pd.read_csv('st_df.csv')"
   ]
  },
  {
   "cell_type": "code",
   "execution_count": 86,
   "id": "84bca7b3",
   "metadata": {},
   "outputs": [],
   "source": [
    "def read_data(data):\n",
    "    print(data.info())\n",
    "    print(data.head())\n",
    "    print(data.describe())"
   ]
  },
  {
   "cell_type": "code",
   "execution_count": 87,
   "id": "187d5bb3",
   "metadata": {},
   "outputs": [
    {
     "name": "stdout",
     "output_type": "stream",
     "text": [
      "<class 'pandas.core.frame.DataFrame'>\n",
      "RangeIndex: 2050 entries, 0 to 2049\n",
      "Data columns (total 5 columns):\n",
      " #   Column        Non-Null Count  Dtype \n",
      "---  ------        --------------  ----- \n",
      " 0   pr_sku_id     2050 non-null   object\n",
      " 1   pr_group_id   2050 non-null   object\n",
      " 2   pr_cat_id     2050 non-null   object\n",
      " 3   pr_subcat_id  2050 non-null   object\n",
      " 4   pr_uom_id     2050 non-null   int64 \n",
      "dtypes: int64(1), object(4)\n",
      "memory usage: 80.2+ KB\n",
      "None\n",
      "                          pr_sku_id                       pr_group_id  \\\n",
      "0  fd064933250b0bfe4f926b867b0a5ec8  c74d97b01eae257e44aa9d5bade97baf   \n",
      "1  71c9661741caf40a92a32d1cc8206c04  c74d97b01eae257e44aa9d5bade97baf   \n",
      "2  00b72c2f01a1512cbb1d3f33319bac93  c74d97b01eae257e44aa9d5bade97baf   \n",
      "3  9bc40cd2fe4f188f402bb41548c5e15c  c74d97b01eae257e44aa9d5bade97baf   \n",
      "4  3a74a370c8eb032acb11ad9119242b8f  c74d97b01eae257e44aa9d5bade97baf   \n",
      "\n",
      "                          pr_cat_id                      pr_subcat_id  \\\n",
      "0  1bc0249a6412ef49b07fe6f62e6dc8de  ca34f669ae367c87f0e75dcae0f61ee5   \n",
      "1  c559da2ba967eb820766939a658022c8  e06f5ed77191826c212c30722f2cc5a2   \n",
      "2  1bc0249a6412ef49b07fe6f62e6dc8de  d407a3ebb4ab9b0d68b224486f8b8dad   \n",
      "3  1bc0249a6412ef49b07fe6f62e6dc8de  ca34f669ae367c87f0e75dcae0f61ee5   \n",
      "4  c559da2ba967eb820766939a658022c8  e06f5ed77191826c212c30722f2cc5a2   \n",
      "\n",
      "   pr_uom_id  \n",
      "0         17  \n",
      "1         17  \n",
      "2         17  \n",
      "3         17  \n",
      "4         17  \n",
      "         pr_uom_id\n",
      "count  2050.000000\n",
      "mean      7.017561\n",
      "std       7.752371\n",
      "min       1.000000\n",
      "25%       1.000000\n",
      "50%       1.000000\n",
      "75%      17.000000\n",
      "max      17.000000\n"
     ]
    }
   ],
   "source": [
    "read_data(pr_df)"
   ]
  },
  {
   "cell_type": "markdown",
   "id": "f7638264",
   "metadata": {},
   "source": [
    "Датасет указывает на иерархию товаров, пропусков в данных нет. Оставляем эти данные без изменений."
   ]
  },
  {
   "cell_type": "code",
   "execution_count": 88,
   "id": "9875d2e1",
   "metadata": {},
   "outputs": [
    {
     "name": "stdout",
     "output_type": "stream",
     "text": [
      "<class 'pandas.core.frame.DataFrame'>\n",
      "RangeIndex: 883015 entries, 0 to 883014\n",
      "Data columns (total 8 columns):\n",
      " #   Column                   Non-Null Count   Dtype  \n",
      "---  ------                   --------------   -----  \n",
      " 0   st_id                    883015 non-null  object \n",
      " 1   pr_sku_id                883015 non-null  object \n",
      " 2   date                     883015 non-null  object \n",
      " 3   pr_sales_type_id         883015 non-null  int64  \n",
      " 4   pr_sales_in_units        883015 non-null  float64\n",
      " 5   pr_promo_sales_in_units  883015 non-null  float64\n",
      " 6   pr_sales_in_rub          883015 non-null  float64\n",
      " 7   pr_promo_sales_in_rub    883015 non-null  float64\n",
      "dtypes: float64(4), int64(1), object(3)\n",
      "memory usage: 53.9+ MB\n",
      "None\n",
      "                              st_id                         pr_sku_id  \\\n",
      "0  c81e728d9d4c2f636f067f89cc14862c  c7b711619071c92bef604c7ad68380dd   \n",
      "1  42a0e188f5033bc65bf8d78622277c4e  68f441429e73dbd33b81f95da31576e9   \n",
      "2  1ecfb463472ec9115b10c292ef8bc986  22988026fe85fde60d8bf777ab6bc3b4   \n",
      "3  42a0e188f5033bc65bf8d78622277c4e  8e887cf8e64ab8e7173701a979476567   \n",
      "4  16a5cdae362b8d27a1d8f8c7b78b4330  e6fc24ca846339d204b0b50e9f772484   \n",
      "\n",
      "         date  pr_sales_type_id  pr_sales_in_units  pr_promo_sales_in_units  \\\n",
      "0  2022-10-20                 1                5.0                      5.0   \n",
      "1  2023-01-29                 0                4.0                      0.0   \n",
      "2  2023-03-02                 0                1.0                      0.0   \n",
      "3  2023-04-05                 1                0.0                      0.0   \n",
      "4  2023-02-17                 0                1.0                      0.0   \n",
      "\n",
      "   pr_sales_in_rub  pr_promo_sales_in_rub  \n",
      "0            825.0                  825.0  \n",
      "1            196.0                    0.0  \n",
      "2             78.0                    0.0  \n",
      "3             69.0                   69.0  \n",
      "4            161.0                    0.0  \n",
      "       pr_sales_type_id  pr_sales_in_units  pr_promo_sales_in_units  \\\n",
      "count     883015.000000      883015.000000            883015.000000   \n",
      "mean           0.406486           5.037956                 2.230010   \n",
      "std            0.491178          13.402984                11.063288   \n",
      "min            0.000000         -39.000000               -39.000000   \n",
      "25%            0.000000           1.000000                 0.000000   \n",
      "50%            0.000000           2.000000                 0.000000   \n",
      "75%            1.000000           4.000000                 1.000000   \n",
      "max            1.000000        2348.000000              2348.000000   \n",
      "\n",
      "       pr_sales_in_rub  pr_promo_sales_in_rub  \n",
      "count    883015.000000          883015.000000  \n",
      "mean        596.705181             294.766561  \n",
      "std        1577.366179            1402.764168  \n",
      "min       -3373.000000           -3373.000000  \n",
      "25%          98.000000               0.000000  \n",
      "50%         224.000000               0.000000  \n",
      "75%         540.000000             127.000000  \n",
      "max      183265.000000          183265.000000  \n"
     ]
    }
   ],
   "source": [
    "read_data(sales_df_train)"
   ]
  },
  {
   "cell_type": "markdown",
   "id": "76c28723",
   "metadata": {},
   "source": [
    "Сразу вызывают сомнения минусовые значения в столбцах количества и суммы продаж. Либо это возвраты, либо какие то ошибочные данные, в любом случае мы их убираем из наших данных. Аналогично поступим и с нулевыми значениями продаж, ведь нам нужно предугадать спрос, следовательно, нет смысла отталкиваться от нулевых значений."
   ]
  },
  {
   "cell_type": "code",
   "execution_count": 89,
   "id": "c89254bb",
   "metadata": {},
   "outputs": [
    {
     "name": "stdout",
     "output_type": "stream",
     "text": [
      "<class 'pandas.core.frame.DataFrame'>\n",
      "RangeIndex: 12 entries, 0 to 11\n",
      "Data columns (total 7 columns):\n",
      " #   Column             Non-Null Count  Dtype \n",
      "---  ------             --------------  ----- \n",
      " 0   st_id              12 non-null     object\n",
      " 1   st_city_id         12 non-null     object\n",
      " 2   st_division_code   12 non-null     object\n",
      " 3   st_type_format_id  12 non-null     int64 \n",
      " 4   st_type_loc_id     12 non-null     int64 \n",
      " 5   st_type_size_id    12 non-null     int64 \n",
      " 6   st_is_active       12 non-null     int64 \n",
      "dtypes: int64(4), object(3)\n",
      "memory usage: 800.0+ bytes\n",
      "None\n",
      "                              st_id                        st_city_id  \\\n",
      "0  1aa057313c28fa4a40c5bc084b11d276  1587965fb4d4b5afe8428a4a024feb0d   \n",
      "1  bd470ca955d9497bbcb808e59952fffc  955d864a62659945cc9434898e275deb   \n",
      "2  6364d3f0f495b6ab9dcf8d3b5c6e0b01  b8b4b727d6f5d1b61fff7be687f7970f   \n",
      "3  1ecfb463472ec9115b10c292ef8bc986  908c9a564a86426585b29f5335b619bc   \n",
      "4  16a5cdae362b8d27a1d8f8c7b78b4330  c1f75cc0f7fe269dd0fd9bd5e24f9586   \n",
      "\n",
      "                   st_division_code  st_type_format_id  st_type_loc_id  \\\n",
      "0  81b4dd343f5880df806d4c5d4a846c64                  4               3   \n",
      "1  e26072c92d8fe0738df44d571d5f5e8b                  4               3   \n",
      "2  da742b3cfca5388aaf9af28a726a3c30                  1               1   \n",
      "3  429a86ff6336c144ddaf6144f52ab52c                  2               1   \n",
      "4  296bd0cc6e735f9d7488ebc8fbc19130                  1               2   \n",
      "\n",
      "   st_type_size_id  st_is_active  \n",
      "0               19             0  \n",
      "1               19             1  \n",
      "2               12             1  \n",
      "3               28             1  \n",
      "4                8             1  \n",
      "       st_type_format_id  st_type_loc_id  st_type_size_id  st_is_active\n",
      "count          12.000000       12.000000        12.000000     12.000000\n",
      "mean            2.333333        1.916667        16.750000      0.833333\n",
      "std             1.497473        0.996205         7.557356      0.389249\n",
      "min             1.000000        1.000000         8.000000      0.000000\n",
      "25%             1.000000        1.000000        12.000000      1.000000\n",
      "50%             1.500000        1.500000        15.500000      1.000000\n",
      "75%             4.000000        3.000000        19.250000      1.000000\n",
      "max             4.000000        3.000000        32.000000      1.000000\n"
     ]
    }
   ],
   "source": [
    "read_data(sf_df)"
   ]
  },
  {
   "cell_type": "markdown",
   "id": "10b876d4",
   "metadata": {},
   "source": [
    "В данном датасете у нас хранится информация о торговых комплексах (ТК). Интересный столбец со статусом магазина `st_is_active`. То есть наши данные хранят информацию о уже неактивных магазинах, их мы тоже смело можем исключить. Они в нашей модели будут лишними, ведь предсказание будет зависеть от ТК."
   ]
  },
  {
   "cell_type": "markdown",
   "id": "eec4d705",
   "metadata": {},
   "source": [
    "### Объединение данных"
   ]
  },
  {
   "cell_type": "markdown",
   "id": "a5d52e2a",
   "metadata": {},
   "source": [
    "Для начала объединим наши данные в один датасет:"
   ]
  },
  {
   "cell_type": "code",
   "execution_count": 114,
   "id": "b310036c",
   "metadata": {},
   "outputs": [],
   "source": [
    "data = sales_df_train.merge(sf_df, on = 'st_id').merge(pr_df, on = 'pr_sku_id') "
   ]
  },
  {
   "cell_type": "code",
   "execution_count": 103,
   "id": "b3125ec3",
   "metadata": {},
   "outputs": [
    {
     "name": "stdout",
     "output_type": "stream",
     "text": [
      "<class 'pandas.core.frame.DataFrame'>\n",
      "RangeIndex: 816401 entries, 0 to 816400\n",
      "Data columns (total 18 columns):\n",
      " #   Column                   Non-Null Count   Dtype  \n",
      "---  ------                   --------------   -----  \n",
      " 0   st_id                    816401 non-null  object \n",
      " 1   pr_sku_id                816401 non-null  object \n",
      " 2   date                     816401 non-null  object \n",
      " 3   pr_sales_type_id         816401 non-null  int64  \n",
      " 4   pr_sales_in_units        816401 non-null  float64\n",
      " 5   pr_promo_sales_in_units  816401 non-null  float64\n",
      " 6   pr_sales_in_rub          816401 non-null  float64\n",
      " 7   pr_promo_sales_in_rub    816401 non-null  float64\n",
      " 8   st_city_id               816401 non-null  object \n",
      " 9   st_division_code         816401 non-null  object \n",
      " 10  st_type_format_id        816401 non-null  int64  \n",
      " 11  st_type_loc_id           816401 non-null  int64  \n",
      " 12  st_type_size_id          816401 non-null  int64  \n",
      " 13  st_is_active             816401 non-null  int64  \n",
      " 14  pr_group_id              816401 non-null  object \n",
      " 15  pr_cat_id                816401 non-null  object \n",
      " 16  pr_subcat_id             816401 non-null  object \n",
      " 17  pr_uom_id                816401 non-null  int64  \n",
      "dtypes: float64(4), int64(6), object(8)\n",
      "memory usage: 112.1+ MB\n"
     ]
    }
   ],
   "source": [
    "data.info()"
   ]
  },
  {
   "cell_type": "markdown",
   "id": "828643bc",
   "metadata": {},
   "source": [
    "### Удаление продаж с минусовыми и нулевыми значениями "
   ]
  },
  {
   "cell_type": "code",
   "execution_count": 106,
   "id": "47240411",
   "metadata": {},
   "outputs": [],
   "source": [
    "data = data.drop(np.where(data['pr_sales_in_units'] <= 0)[0])"
   ]
  },
  {
   "cell_type": "markdown",
   "id": "46c51315",
   "metadata": {},
   "source": [
    "### Удаление неактивных ТК"
   ]
  },
  {
   "cell_type": "markdown",
   "id": "b4ce2306",
   "metadata": {},
   "source": [
    "В данных содержится информация о двух ТК, которые уже неактивны, информацию о данных ТК мы и удалим."
   ]
  },
  {
   "cell_type": "code",
   "execution_count": 111,
   "id": "94f47fd5",
   "metadata": {},
   "outputs": [],
   "source": [
    "data = data.drop(np.where(data['st_is_active'] == 0)[0])"
   ]
  },
  {
   "cell_type": "code",
   "execution_count": 112,
   "id": "146e8149",
   "metadata": {},
   "outputs": [
    {
     "name": "stdout",
     "output_type": "stream",
     "text": [
      "<class 'pandas.core.frame.DataFrame'>\n",
      "Index: 815673 entries, 0 to 816400\n",
      "Data columns (total 18 columns):\n",
      " #   Column                   Non-Null Count   Dtype  \n",
      "---  ------                   --------------   -----  \n",
      " 0   st_id                    815673 non-null  object \n",
      " 1   pr_sku_id                815673 non-null  object \n",
      " 2   date                     815673 non-null  object \n",
      " 3   pr_sales_type_id         815673 non-null  int64  \n",
      " 4   pr_sales_in_units        815673 non-null  float64\n",
      " 5   pr_promo_sales_in_units  815673 non-null  float64\n",
      " 6   pr_sales_in_rub          815673 non-null  float64\n",
      " 7   pr_promo_sales_in_rub    815673 non-null  float64\n",
      " 8   st_city_id               815673 non-null  object \n",
      " 9   st_division_code         815673 non-null  object \n",
      " 10  st_type_format_id        815673 non-null  int64  \n",
      " 11  st_type_loc_id           815673 non-null  int64  \n",
      " 12  st_type_size_id          815673 non-null  int64  \n",
      " 13  st_is_active             815673 non-null  int64  \n",
      " 14  pr_group_id              815673 non-null  object \n",
      " 15  pr_cat_id                815673 non-null  object \n",
      " 16  pr_subcat_id             815673 non-null  object \n",
      " 17  pr_uom_id                815673 non-null  int64  \n",
      "dtypes: float64(4), int64(6), object(8)\n",
      "memory usage: 118.2+ MB\n"
     ]
    }
   ],
   "source": [
    "data.info()"
   ]
  },
  {
   "cell_type": "markdown",
   "id": "cc0efc16",
   "metadata": {},
   "source": [
    "Изначальный набор данных содержал 883015 строк о продажах товаров собственного производства. После начальной обработки данных осталось 815673 строк, т.е. мы очистили 7,6% данных."
   ]
  },
  {
   "cell_type": "code",
   "execution_count": null,
   "id": "372dc2af",
   "metadata": {},
   "outputs": [],
   "source": []
  },
  {
   "cell_type": "code",
   "execution_count": 137,
   "id": "3245cda7",
   "metadata": {},
   "outputs": [],
   "source": [
    "data['date'] = pd.to_datetime(data['date'])"
   ]
  },
  {
   "cell_type": "code",
   "execution_count": 141,
   "id": "06f36c84",
   "metadata": {},
   "outputs": [],
   "source": [
    "data = data.sort_values('date')"
   ]
  },
  {
   "cell_type": "code",
   "execution_count": null,
   "id": "66ac8d62",
   "metadata": {},
   "outputs": [],
   "source": []
  }
 ],
 "metadata": {
  "kernelspec": {
   "display_name": "Python 3 (ipykernel)",
   "language": "python",
   "name": "python3"
  },
  "language_info": {
   "codemirror_mode": {
    "name": "ipython",
    "version": 3
   },
   "file_extension": ".py",
   "mimetype": "text/x-python",
   "name": "python",
   "nbconvert_exporter": "python",
   "pygments_lexer": "ipython3",
   "version": "3.9.18"
  }
 },
 "nbformat": 4,
 "nbformat_minor": 5
}
